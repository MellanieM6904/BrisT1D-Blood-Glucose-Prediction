{
 "cells": [
  {
   "cell_type": "code",
   "execution_count": 4,
   "id": "ab9ea242-77e7-4994-933d-2055c74649c3",
   "metadata": {},
   "outputs": [
    {
     "name": "stderr",
     "output_type": "stream",
     "text": [
      "/var/folders/n9/v_rk5kln2ljbl30lc2gg7nnw0000gn/T/ipykernel_23896/903420183.py:8: DtypeWarning: Columns (435,436,437,438,439,440,441,442,443,444,445,446,447,448,449,450,451,452,453,454,455,456,457,458,459,460,461,462,463,464,465,466,467,468,469,470,471,472,473,474,475,476,477,478,479,480,481,482,483,484,485,486,487,488,489,490,491,492,493,494,495,496,497,498,499,500,501,502,503,504,505,506) have mixed types. Specify dtype option on import or set low_memory=False.\n",
      "  data = pd.read_csv(\"brist1d/train.csv\")\n"
     ]
    },
    {
     "name": "stdout",
     "output_type": "stream",
     "text": [
      "0         13.4\n",
      "1         12.8\n",
      "2         15.5\n",
      "3         14.8\n",
      "4         12.7\n",
      "          ... \n",
      "177019    11.1\n",
      "177020    10.9\n",
      "177021    10.7\n",
      "177022    10.5\n",
      "177023    10.2\n",
      "Name: bg+1:00, Length: 177024, dtype: float64\n"
     ]
    }
   ],
   "source": [
    "# Team: Tethical Machine Learning\n",
    "# Team members: Mellanie Martin, Wyatt Pigeon, Koby Grah\n",
    "\n",
    "import pandas as pd\n",
    "import numpy as np\n",
    "\n",
    "def main():\n",
    "    data = pd.read_csv(\"brist1d/train.csv\")\n",
    "\n",
    "    columns_to_combine = [col for col in data.columns if col.startswith('bg-')]\n",
    "    drop = [col for col in data.columns if (col.startswith('carbs-') or col.startswith('hr-')  or col.startswith('steps-')  or col.startswith('activity-'))]\n",
    "\n",
    "    combined_columns = []\n",
    "    for i in range(0, len(columns_to_combine), 3):  # Every three columns\n",
    "        group = columns_to_combine[i:i+3]  # Group 'em up\n",
    "    \n",
    "        if len(group) == 3:  # If actually got 3 columns\n",
    "            new_column_name = f\"{group[0]}-{group[2][-5:]}\"  # Rename column group with first time and last time\n",
    "            data[new_column_name] = data[group].bfill(axis=1).iloc[:, 0]  # Fill new column with whichever column actually has a value\n",
    "            combined_columns.append(new_column_name)  # Add new column to combined list\n",
    "\n",
    "    data = data.drop(columns=columns_to_combine)  # Drop original columns\n",
    "    data = data.drop(columns=drop)  # If you need to drop anything for visibility\n",
    "    desired_columns = ('bg-', 'insulin-', 'cals-')\n",
    "    \n",
    "    xs = [col for col in data.columns if col.startswith(desired_columns)]\n",
    "    ys = data['bg+1:00']\n",
    "\n",
    "#    print(xs)\n",
    "#    print(ys)\n",
    "    \n",
    "#    display(data)\n",
    "\n",
    "    \n",
    "\n",
    "if __name__ == \"__main__\":\n",
    "    main()"
   ]
  },
  {
   "cell_type": "code",
   "execution_count": null,
   "id": "ad944257-31d9-482c-aa19-498703f0505e",
   "metadata": {},
   "outputs": [],
   "source": []
  },
  {
   "cell_type": "markdown",
   "id": "0fb6e9a2-9614-4994-b467-ad19862cb761",
   "metadata": {},
   "source": [
    "Notes:\n",
    "1. Final predicted value is a float, so this is a regression problem\n",
    "2. Potential models to look at; Kernel Ridge, AdaBoost, Gradient Boosting\n",
    "3. Pipeline with minimum 3 stages is needed, and we need to use GridSearchCV"
   ]
  }
 ],
 "metadata": {
  "kernelspec": {
   "display_name": "Python [conda env:machine_learning]",
   "language": "python",
   "name": "conda-env-machine_learning-py"
  },
  "language_info": {
   "codemirror_mode": {
    "name": "ipython",
    "version": 3
   },
   "file_extension": ".py",
   "mimetype": "text/x-python",
   "name": "python",
   "nbconvert_exporter": "python",
   "pygments_lexer": "ipython3",
   "version": "3.12.5"
  }
 },
 "nbformat": 4,
 "nbformat_minor": 5
}
