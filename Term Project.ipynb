{
 "cells": [
  {
   "cell_type": "code",
   "execution_count": 39,
   "id": "ab9ea242-77e7-4994-933d-2055c74649c3",
   "metadata": {},
   "outputs": [],
   "source": [
    "# Team: Tethical Machine Learning\n",
    "# Team members: Mellanie Martin, Wyatt Pigeon, Koby Grah\n",
    "\n",
    "import pandas as pd\n",
    "import numpy as np\n",
    "\n",
    "def main():\n",
    "    data = pd.read_csv(\"Data/test.csv\")\n",
    "    cleanedData = pd.get_dummies(data, drop_first=True)\n",
    "    cleanedData = cleanedData.fillna(0)\n",
    "    \n",
    "\n",
    "if __name__ == \"__main__\":\n",
    "    main()"
   ]
  },
  {
   "cell_type": "markdown",
   "id": "0fb6e9a2-9614-4994-b467-ad19862cb761",
   "metadata": {},
   "source": [
    "Notes:\n",
    "1. Final predicted value is a float, so this is a regression problem\n",
    "2. Potential models to look at; Kernel Ridge, AdaBoost, Gradient Boosting\n",
    "3. Pipeline with minimum 3 stages is needed, and we need to use GridSearchCV"
   ]
  }
 ],
 "metadata": {
  "kernelspec": {
   "display_name": "Python [conda env:machine_learning]",
   "language": "python",
   "name": "conda-env-machine_learning-py"
  },
  "language_info": {
   "codemirror_mode": {
    "name": "ipython",
    "version": 3
   },
   "file_extension": ".py",
   "mimetype": "text/x-python",
   "name": "python",
   "nbconvert_exporter": "python",
   "pygments_lexer": "ipython3",
   "version": "3.12.5"
  }
 },
 "nbformat": 4,
 "nbformat_minor": 5
}
